{
 "cells": [
  {
   "cell_type": "code",
   "execution_count": 1,
   "metadata": {},
   "outputs": [
    {
     "name": "stderr",
     "output_type": "stream",
     "text": [
      "Using TensorFlow backend.\n"
     ]
    },
    {
     "name": "stdout",
     "output_type": "stream",
     "text": [
      "(4051, 100, 100, 3) (448, 100, 100, 3)\n",
      "(4051, 4) (448, 4)\n"
     ]
    }
   ],
   "source": [
    "import numpy as np\n",
    "import matplotlib.pyplot as plt\n",
    "from keras.layers import Input, Dense, Conv2D, BatchNormalization, Activation, Flatten, ZeroPadding2D\n",
    "from keras.layers import GlobalAveragePooling2D, AveragePooling2D, Dropout\n",
    "from keras.layers import GlobalMaxPooling2D, MaxPooling2D\n",
    "from keras.models import Model\n",
    "from keras.initializers import glorot_uniform\n",
    "from kt_utils import *\n",
    "\n",
    "data_dir = \"./data/\"\n",
    "X_train_orig, Y_train_orig, X_test_orig, Y_test_orig = load_dataset(data_dir)\n",
    "\n",
    "\n",
    "# Normalize image vectors\n",
    "X_train = X_train_orig/255\n",
    "X_test = X_test_orig/255\n",
    "classes = 4\n",
    "Y_train = convert_to_one_hot(Y_train_orig, classes).T\n",
    "Y_test = convert_to_one_hot(Y_test_orig, classes).T\n",
    "print(X_train.shape, X_test.shape)\n",
    "print(Y_train.shape, Y_test.shape)"
   ]
  },
  {
   "cell_type": "code",
   "execution_count": 2,
   "metadata": {},
   "outputs": [],
   "source": [
    "def TrafficLightModel(input_shape):\n",
    "    X_input = Input(input_shape)\n",
    "    X = ZeroPadding2D((3,3))(X_input)\n",
    "    \n",
    "    X = Conv2D(filters=32, kernel_size=(7,7), strides=(1,1), padding=\"valid\", kernel_initializer=glorot_uniform(seed=0), name=\"conv0\")(X)\n",
    "    X = BatchNormalization(axis=3, name=\"bn0\")(X)\n",
    "    X = Activation(\"relu\")(X)\n",
    "    \n",
    "    X = Conv2D(32, (5,5), strides=(1,1), kernel_initializer=glorot_uniform(seed=0), name=\"conv1\")(X)\n",
    "    X = BatchNormalization(axis=3, name=\"bn1\")(X)\n",
    "    X = Activation(\"relu\")(X)\n",
    "    \n",
    "    X = MaxPooling2D((2,2), name=\"max_pool\")(X)\n",
    "    X = Flatten()(X)\n",
    "    X = Dense(4, activation=\"softmax\", kernel_initializer=glorot_uniform(seed=0), name=\"fc\")(X)\n",
    "    \n",
    "    model = Model(inputs=X_input, outputs=X, name=\"traffic_light_model\")\n",
    "    return model"
   ]
  },
  {
   "cell_type": "code",
   "execution_count": 3,
   "metadata": {},
   "outputs": [
    {
     "name": "stdout",
     "output_type": "stream",
     "text": [
      "WARNING:tensorflow:From /home/lalit/.local/lib/python3.5/site-packages/tensorflow/python/framework/op_def_library.py:263: colocate_with (from tensorflow.python.framework.ops) is deprecated and will be removed in a future version.\n",
      "Instructions for updating:\n",
      "Colocations handled automatically by placer.\n"
     ]
    }
   ],
   "source": [
    "trafficModel = TrafficLightModel(X_train.shape[1:])"
   ]
  },
  {
   "cell_type": "code",
   "execution_count": 4,
   "metadata": {},
   "outputs": [],
   "source": [
    "trafficModel.compile(optimizer='adam', loss='categorical_crossentropy', metrics=['accuracy'])"
   ]
  },
  {
   "cell_type": "code",
   "execution_count": 7,
   "metadata": {},
   "outputs": [
    {
     "name": "stdout",
     "output_type": "stream",
     "text": [
      "Epoch 1/10\n",
      "4051/4051 [==============================] - 511s 126ms/step - loss: 9.9112 - acc: 0.3851\n",
      "Epoch 2/10\n",
      "4051/4051 [==============================] - 460s 114ms/step - loss: 9.9112 - acc: 0.3851\n",
      "Epoch 3/10\n",
      "4051/4051 [==============================] - 452s 112ms/step - loss: 9.9112 - acc: 0.3851\n",
      "Epoch 4/10\n",
      "4051/4051 [==============================] - 457s 113ms/step - loss: 9.9112 - acc: 0.3851\n",
      "Epoch 5/10\n",
      "4051/4051 [==============================] - 438s 108ms/step - loss: 9.9112 - acc: 0.3851\n",
      "Epoch 6/10\n",
      "4051/4051 [==============================] - 449s 111ms/step - loss: 9.9112 - acc: 0.3851\n",
      "Epoch 7/10\n",
      "4051/4051 [==============================] - 465s 115ms/step - loss: 9.9112 - acc: 0.3851\n",
      "Epoch 8/10\n",
      "4051/4051 [==============================] - 492s 122ms/step - loss: 9.9112 - acc: 0.3851\n",
      "Epoch 9/10\n",
      "4051/4051 [==============================] - 483s 119ms/step - loss: 9.9112 - acc: 0.3851\n",
      "Epoch 10/10\n",
      "4051/4051 [==============================] - 472s 116ms/step - loss: 9.9112 - acc: 0.3851\n"
     ]
    },
    {
     "data": {
      "text/plain": [
       "<keras.callbacks.History at 0x7fee2449dcc0>"
      ]
     },
     "execution_count": 7,
     "metadata": {},
     "output_type": "execute_result"
    }
   ],
   "source": [
    "trafficModel.fit(x=X_train, y =Y_train, epochs=10, batch_size=16)"
   ]
  },
  {
   "cell_type": "code",
   "execution_count": 8,
   "metadata": {},
   "outputs": [
    {
     "name": "stdout",
     "output_type": "stream",
     "text": [
      "448/448 [==============================] - 16s 36ms/step\n",
      "Loss = 9.89392020872661\n",
      "Test Accuracy = 0.3861607142857143\n"
     ]
    }
   ],
   "source": [
    "preds = trafficModel.evaluate(x=X_test, y=Y_test, batch_size=16)\n",
    "print (\"Loss = \" + str(preds[0]))\n",
    "print (\"Test Accuracy = \" + str(preds[1]))"
   ]
  },
  {
   "cell_type": "code",
   "execution_count": null,
   "metadata": {},
   "outputs": [],
   "source": []
  }
 ],
 "metadata": {
  "kernelspec": {
   "display_name": "Python 3",
   "language": "python",
   "name": "python3"
  },
  "language_info": {
   "codemirror_mode": {
    "name": "ipython",
    "version": 3
   },
   "file_extension": ".py",
   "mimetype": "text/x-python",
   "name": "python",
   "nbconvert_exporter": "python",
   "pygments_lexer": "ipython3",
   "version": "3.5.2"
  }
 },
 "nbformat": 4,
 "nbformat_minor": 2
}
